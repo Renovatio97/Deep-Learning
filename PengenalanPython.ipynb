{
 "cells": [
  {
   "cell_type": "markdown",
   "metadata": {},
   "source": [
    "# Apa itu Python ?\n",
    "\n",
    "Python adalah bahasa pemrograman interpretatif multiguna. Tidak seperti bahasa lain yang susah untuk dibaca dan dipahami, python lebih menekankan pada keterbacaan kode agar lebih mudah untuk memahami sintaks. Hal ini membuat Python sangat mudah dipelajari baik untuk pemula maupun untuk yang sudah menguasai bahasa pemrograman lain.\n",
    "\n",
    "Bahasa ini muncul pertama kali pada tahun 1991, dirancang oleh seorang bernama Guido van Rossum. Sampai saat ini Python masih dikembangkan oleh Python Software Foundation. Bahasa Python mendukung hampir semua sistem operasi, bahkan untuk sistem operasi Linux, hampir semua distronya sudah menyertakan Python di dalamnya."
   ]
  },
  {
   "cell_type": "markdown",
   "metadata": {},
   "source": [
    "## Instalasi Pyhton\n",
    "\n",
    "- Windows\n",
    "\n",
    "1. Buka browser, kunjungi http://www.python.org/downloads/windows/\n",
    "2. ATAU, klik direct link https://www.python.org/ftp/python/3.4.3/python-3.4.3.msi\n",
    "3. Buka (klik 2x) file installer python yang baru saja di download\n",
    "4. Ikuti langkah instalasi sampai selesai"
   ]
  },
  {
   "cell_type": "markdown",
   "metadata": {},
   "source": [
    "# Syntax Dasar\n",
    "\n",
    "Syntax bahasa Python hampir sama dengan bahasa pemrograman pada umumnya seperti Java atau PHP.\n",
    "\n",
    "Dibawah ini adalah contoh fungsi Python yang digunakan untuk mencetak. Di Python untuk mencetak cukup gunakan fungsi print() , dimana sesuatu yang akan dicetak harus diletakkan diantara kurung buka dan kurung tutup, bahkan di Python versi 2.x Anda tidak harus menggunakan tanda kurung kurawal, cukup pisahkan dengan spasi. Jika ingin mencetak tipe data String langsung, Anda harus memasukanya ke dalam tanda kutip terlebih dahulu."
   ]
  },
  {
   "cell_type": "code",
   "execution_count": 1,
   "metadata": {},
   "outputs": [
    {
     "name": "stdout",
     "output_type": "stream",
     "text": [
      "Hello World\n"
     ]
    }
   ],
   "source": [
    "print(\"Hello World\")"
   ]
  },
  {
   "cell_type": "markdown",
   "metadata": {},
   "source": [
    "# Komentar\n",
    "\n",
    "Komentar (comment) adalah kode di dalam script Python yang tidak dieksekusi atau tidak dijalankan mesin. Komentar hanya digunakan untuk menandai atau memberikan keterangan tertulis pada script.\n",
    "\n",
    "Komentar biasa digunakan untuk membiarkan orang lain memahami apa yang dilakukan script. atau untuk mengingatkan kepada programmer sendiri jika suatu saat kembali mengedit script tersebut. Untuk menggunakan komentar anda cukup menulis tanda pagar #, diikuti dengan komentar Anda."
   ]
  },
  {
   "cell_type": "code",
   "execution_count": 2,
   "metadata": {},
   "outputs": [
    {
     "name": "stdout",
     "output_type": "stream",
     "text": [
      "Halo Nama saya Pratama Arief Rmadhan\n"
     ]
    }
   ],
   "source": [
    "#Ini adalah contoh komentar\n",
    "print(\"Halo Nama saya Pratama Arief Ramadhan\")"
   ]
  },
  {
   "attachments": {},
   "cell_type": "markdown",
   "metadata": {},
   "source": [
    "# Variabel\n",
    "\n",
    "Variabel adalah lokasi memori yang dicadangkan untuk menyimpan nilai-nilai. Ini berarti bahwa ketika Anda membuat sebuah variabel Anda memesan beberapa ruang di memori. Variabel menyimpan data yang dilakukan selama program dieksekusi, yang nantinya isi dari variabel tersebut dapat diubah oleh operasi - operasi tertentu pada program yang menggunakan variabel."
   ]
  },
  {
   "cell_type": "raw",
   "metadata": {},
   "source": [
    "Penulisan variabel Python sendiri juga memiliki aturan tertentu, yaitu :\n",
    "\n",
    "1. Karakter pertama harus berupa huruf atau garis bawah/underscore _\n",
    "2. Karakter selanjutnya dapat berupa huruf, garis bawah/underscore _ atau angka\n",
    "3. Karakter pada nama variabel bersifat sensitif (case-sensitif). Artinya huruf kecil dan huruf besar dibedakan. Sebagai 4. contoh, variabel namaDepan dan namadepan adalah variabel yang berbeda."
   ]
  },
  {
   "cell_type": "code",
   "execution_count": 80,
   "metadata": {},
   "outputs": [
    {
     "name": "stdout",
     "output_type": "stream",
     "text": [
      "Pratama Arief Ramadhan\n",
      "22\n",
      "dua puluh dua\n",
      "Biodata\n",
      " Alan Ramadhan \n",
      " 32 \n",
      " Memancing\n",
      "50\n"
     ]
    }
   ],
   "source": [
    "#proses memasukan data ke dalam variabel\n",
    "nama = \"Pratama Arief Ramadhan\"\n",
    "#proses mencetak variabel\n",
    "print(nama)\n",
    "\n",
    "#nilai dan tipe data dalam variabel  dapat diubah\n",
    "umur = 22               #nilai awal\n",
    "print(umur)             #mencetak nilai umur\n",
    "type(umur)              #mengecek tipe data umur\n",
    "umur = \"dua puluh dua\" #nilai setelah diubah\n",
    "print(umur)             #mencetak nilai umur\n",
    "type(umur)              #mengecek tipe data umur\n",
    "\n",
    "namaDepan = \"Alan\"\n",
    "namaBelakang = \"Ramadhan\"\n",
    "nama = namaDepan + \" \" + namaBelakang\n",
    "umur = 32\n",
    "hobi = \"Memancing\"\n",
    "print(\"Biodata\\n\",nama, \"\\n\",umur, \"\\n\",hobi)\n",
    "\n",
    "#contoh variabel lainya\n",
    "inivariabel = \"Halo\"\n",
    "ini_juga_variabel = \"Hai\"\n",
    "_inivariabeljuga = \"Hi\"\n",
    "inivariabel222 = \"Bye\" \n",
    "\n",
    "panjang = 10\n",
    "lebar = 5\n",
    "luas = panjang * lebar\n",
    "print(luas)"
   ]
  },
  {
   "cell_type": "markdown",
   "metadata": {},
   "source": [
    "# Tipe Data \n",
    "\n",
    "Tipe data adalah suatu media atau memori pada komputer yang digunakan untuk menampung informasi. Python sendiri mempunyai tipe data yang cukup unik bila kita bandingkan dengan bahasa pemrograman yang lain.\n",
    "\n",
    "Tipe data pada Pyhton terdiri dari :\n",
    "\n",
    "1. Boolean\n",
    "2. Integer\n",
    "3. Float\n",
    "4. Complex\n",
    "5. Hexadecimal\n",
    "6. String \n",
    "7. List\n",
    "8. Tuple\n",
    "9. Dictionary"
   ]
  },
  {
   "attachments": {},
   "cell_type": "markdown",
   "metadata": {},
   "source": [
    "## 1. Boolean\n",
    "\n",
    "Menyatakan benar True yang bernilai 1, atau salah False yang bernilai 0."
   ]
  },
  {
   "cell_type": "code",
   "execution_count": 10,
   "metadata": {
    "scrolled": true
   },
   "outputs": [
    {
     "name": "stdout",
     "output_type": "stream",
     "text": [
      "True\n",
      "False\n"
     ]
    }
   ],
   "source": [
    "#Kendaraan pribadi menggunakan bensin\n",
    "bensin = True\n",
    "print(bensin)\n",
    "\n",
    "#Ibu kota Indonesia adalah Bandung\n",
    "bandung = False\n",
    "print(bandung)"
   ]
  },
  {
   "attachments": {},
   "cell_type": "markdown",
   "metadata": {},
   "source": [
    "## 2. Integer\n",
    "\n",
    "Menyatakan bilangan bulat."
   ]
  },
  {
   "cell_type": "code",
   "execution_count": 12,
   "metadata": {},
   "outputs": [
    {
     "name": "stdout",
     "output_type": "stream",
     "text": [
      "20\n",
      "30\n"
     ]
    }
   ],
   "source": [
    "print(20)\n",
    "print(30)"
   ]
  },
  {
   "attachments": {},
   "cell_type": "markdown",
   "metadata": {},
   "source": [
    "## 3. Float\n",
    "\n",
    "Menyatakan bilangan yang mempunyai koma."
   ]
  },
  {
   "cell_type": "code",
   "execution_count": 13,
   "metadata": {},
   "outputs": [
    {
     "name": "stdout",
     "output_type": "stream",
     "text": [
      "3.14\n",
      "22.7\n"
     ]
    }
   ],
   "source": [
    "print(3.14)\n",
    "print(22.7)"
   ]
  },
  {
   "attachments": {},
   "cell_type": "markdown",
   "metadata": {},
   "source": [
    "## 4.Complex\n",
    "\n",
    "Menyatakan pasangan angka real dan imajiner."
   ]
  },
  {
   "cell_type": "code",
   "execution_count": 20,
   "metadata": {},
   "outputs": [
    {
     "name": "stdout",
     "output_type": "stream",
     "text": [
      "(3+3j)\n",
      "(2+0j)\n",
      "0j\n"
     ]
    }
   ],
   "source": [
    "z = complex(3,3)\n",
    "print(z)\n",
    "\n",
    "z = complex(2)\n",
    "print(z)\n",
    "\n",
    "z = complex()\n",
    "print(z)"
   ]
  },
  {
   "attachments": {},
   "cell_type": "markdown",
   "metadata": {},
   "source": [
    "## 5.Hexadecimal\n",
    "\n",
    "Menyatakan bilangan dalam format heksa (bilangan berbasis 16)."
   ]
  },
  {
   "cell_type": "code",
   "execution_count": 18,
   "metadata": {},
   "outputs": [
    {
     "name": "stdout",
     "output_type": "stream",
     "text": [
      "123\n",
      "-10\n"
     ]
    }
   ],
   "source": [
    "print(0x7b)\n",
    "print(-0xa)"
   ]
  },
  {
   "attachments": {},
   "cell_type": "markdown",
   "metadata": {},
   "source": [
    "## 6. String\n",
    "\n",
    "Menyatakan karakter/kalimat bisa berupa huruf angka, dll (diapit tanda \" atau ')."
   ]
  },
  {
   "cell_type": "code",
   "execution_count": 11,
   "metadata": {},
   "outputs": [
    {
     "name": "stdout",
     "output_type": "stream",
     "text": [
      "Ayo belajar Python\n",
      "Belajar Python Sangat Mudah\n"
     ]
    }
   ],
   "source": [
    "print(\"Ayo belajar Python\")\n",
    "print('Belajar Python Sangat Mudah')"
   ]
  },
  {
   "cell_type": "markdown",
   "metadata": {},
   "source": [
    "### Akses Nilai dalam String\n",
    "\n",
    "Python tidak menggunakan tipe karakter titik koma ; Ini diperlakukan sebagai string dengan panjang satu, sehingga juga dianggap sebagai substring. Untuk mengakses substring, gunakan tanda kurung siku untuk mengiris beserta indeks atau indeks untuk mendapatkan substring Anda."
   ]
  },
  {
   "cell_type": "code",
   "execution_count": 29,
   "metadata": {},
   "outputs": [
    {
     "name": "stdout",
     "output_type": "stream",
     "text": [
      "name[0]:  P\n",
      "message[1:4]:  rat\n"
     ]
    }
   ],
   "source": [
    "name = ('Pratama') \n",
    "message = (\"Pratama Arief belajar bahasa python di Belajar python\")\n",
    "print (\"name[0]: \", name[0])\n",
    "print (\"message[1:4]: \", message[1:4])"
   ]
  },
  {
   "attachments": {},
   "cell_type": "markdown",
   "metadata": {},
   "source": [
    "### Mengupdate String\n",
    "\n",
    "Anda dapat “memperbarui” string yang ada dengan (kembali) menugaskan variabel ke string lain. Nilai baru dapat dikaitkan dengan nilai sebelumnya atau ke string yang sama sekali berbeda sama sekali."
   ]
  },
  {
   "cell_type": "code",
   "execution_count": 33,
   "metadata": {},
   "outputs": [
    {
     "name": "stdout",
     "output_type": "stream",
     "text": [
      "Updated String : Pratama Python\n"
     ]
    }
   ],
   "source": [
    "message = (\"Pratama Arief\")\n",
    "print (\"Updated String :\", message[:8] + 'Python')"
   ]
  },
  {
   "attachments": {},
   "cell_type": "markdown",
   "metadata": {},
   "source": [
    "## 7.List\n",
    "\n",
    "Data untaian yang menyimpan berbagai tipe data dan isinya bisa diubah-ubah."
   ]
  },
  {
   "cell_type": "code",
   "execution_count": 36,
   "metadata": {},
   "outputs": [
    {
     "name": "stdout",
     "output_type": "stream",
     "text": [
      "['kimia', 'fisika', 1993, 2017]\n",
      "[1, 2, 3, 4, 5]\n"
     ]
    }
   ],
   "source": [
    "list1 = ['kimia', 'fisika', 1993, 2017]\n",
    "list2 = [1, 2, 3, 4, 5 ]\n",
    "print(list1)\n",
    "print(list2)"
   ]
  },
  {
   "attachments": {},
   "cell_type": "markdown",
   "metadata": {},
   "source": [
    "### Akses Nilai dalam List\n",
    "\n",
    "Untuk mengakses nilai dalam list python, gunakan tanda kurung siku untuk mengiris beserta indeks atau indeks untuk mendapatkan nilai yang tersedia pada indeks tersebut."
   ]
  },
  {
   "cell_type": "code",
   "execution_count": 41,
   "metadata": {},
   "outputs": [
    {
     "name": "stdout",
     "output_type": "stream",
     "text": [
      "list1[1]:  kimia\n",
      "list2[1:5]:  [2, 3, 4, 5]\n",
      "list2[0:4]:  [1, 2, 3, 4]\n",
      "list2[4:]:  [5, 6, 7]\n",
      "list2[:3]:  [1, 2, 3]\n"
     ]
    }
   ],
   "source": [
    "list1 = ['fisika', 'kimia', 1993, 2017]\n",
    "list2 = [1, 2, 3, 4, 5, 6, 7 ]\n",
    "\n",
    "print (\"list1[1]: \", list1[1])\n",
    "print (\"list2[1:5]: \", list2[1:5])\n",
    "print (\"list2[0:4]: \", list2[0:4])\n",
    "print (\"list2[4:]: \", list2[4:])\n",
    "print (\"list2[:3]: \", list2[:3])"
   ]
  },
  {
   "attachments": {},
   "cell_type": "markdown",
   "metadata": {},
   "source": [
    "### Update Nilai dalam List\n",
    "\n",
    "Untuk mengakses nilai dalam list python, gunakan tanda kurung siku untuk mengiris beserta indeks atau indeks untuk mendapatkan nilai yang tersedia pada indeks tersebut."
   ]
  },
  {
   "cell_type": "code",
   "execution_count": 42,
   "metadata": {},
   "outputs": [
    {
     "name": "stdout",
     "output_type": "stream",
     "text": [
      "Nilai ada pada index 2 :  1993\n",
      "Nilai baru ada pada index 2 :  2001\n"
     ]
    }
   ],
   "source": [
    "list = ['fisika', 'kimia', 1993, 2017]\n",
    "print (\"Nilai ada pada index 2 : \", list[2])\n",
    "\n",
    "list[2] = 2001\n",
    "print (\"Nilai baru ada pada index 2 : \", list[2])"
   ]
  },
  {
   "attachments": {},
   "cell_type": "markdown",
   "metadata": {},
   "source": [
    "### Hapus Nilai dalam List\n",
    "\n",
    "Untuk menghapus nilai di dalam list python, Anda dapat menggunakan salah satu pernyataan del jika Anda tahu persis elemen yang Anda hapus. Anda dapat menggunakan metode remove() jika Anda tidak tahu persis item mana yang akan dihapus."
   ]
  },
  {
   "cell_type": "code",
   "execution_count": 43,
   "metadata": {},
   "outputs": [
    {
     "name": "stdout",
     "output_type": "stream",
     "text": [
      "['fisika', 'kimia', 1993, 2017]\n",
      "Setelah dihapus nilai pada index 2 :  ['fisika', 'kimia', 2017]\n"
     ]
    }
   ],
   "source": [
    "list = ['fisika', 'kimia', 1993, 2017]\n",
    "\n",
    "print (list)\n",
    "del list[2]\n",
    "print (\"Setelah dihapus nilai pada index 2 : \", list)"
   ]
  },
  {
   "attachments": {},
   "cell_type": "markdown",
   "metadata": {},
   "source": [
    "## 8.Tuple\n",
    "\n",
    "Data untaian yang menyimpan berbagai tipe data tapi isinya tidak bisa diubah."
   ]
  },
  {
   "cell_type": "code",
   "execution_count": 44,
   "metadata": {},
   "outputs": [
    {
     "name": "stdout",
     "output_type": "stream",
     "text": [
      "('fisika', 'kimia', 1993, 2017)\n",
      "(1, 2, 3, 4, 5)\n",
      "('a', 'b', 'c', 'd')\n"
     ]
    }
   ],
   "source": [
    "tup1 = ('fisika', 'kimia', 1993, 2017)\n",
    "tup2 = (1, 2, 3, 4, 5 )\n",
    "tup3 = \"a\", \"b\", \"c\", \"d\"\n",
    "print(tup1)\n",
    "print(tup2)\n",
    "print(tup3)"
   ]
  },
  {
   "attachments": {},
   "cell_type": "markdown",
   "metadata": {},
   "source": [
    "### Akses Nilai dalam Tuple\n",
    "\n",
    "Untuk mengakses nilai dalam tupel, gunakan tanda kurung siku untuk mengiris beserta indeks atau indeks untuk mendapatkan nilai yang tersedia pada indeks tersebut."
   ]
  },
  {
   "cell_type": "code",
   "execution_count": 48,
   "metadata": {},
   "outputs": [
    {
     "name": "stdout",
     "output_type": "stream",
     "text": [
      "tup2[0]:  1\n",
      "tup1[1:5]:  ('kimia', 'biologi', 'fisika', 1985)\n",
      "tup1[0:4]:  ('matematika', 'kimia', 'biologi', 'fisika')\n",
      "tup1[4:]:  (1985, 1997, 2017)\n",
      "tup1[:3]:  ('matematika', 'kimia', 'biologi')\n"
     ]
    }
   ],
   "source": [
    "tup1 = ('matematika', 'kimia', 'biologi', 'fisika', 1985, 1997, 2017)\n",
    "tup2 = (1, 2, 3, 4, 5, 6, 7 )\n",
    "\n",
    "print (\"tup2[0]: \", tup2[0])\n",
    "print (\"tup1[1:5]: \", tup1[1:5])\n",
    "print (\"tup1[0:4]: \", tup1[0:4])\n",
    "print (\"tup1[4:]: \", tup1[4:])\n",
    "print (\"tup1[:3]: \", tup1[:3])"
   ]
  },
  {
   "attachments": {},
   "cell_type": "markdown",
   "metadata": {},
   "source": [
    "### Update Nilai dalam Tuple\n",
    "\n",
    "Tuple tidak berubah, yang berarti Anda tidak dapat memperbarui atau mengubah nilai elemen tupel. Anda dapat mengambil bagian dari tupel yang ada untuk membuat tupel baru."
   ]
  },
  {
   "cell_type": "code",
   "execution_count": 49,
   "metadata": {},
   "outputs": [
    {
     "name": "stdout",
     "output_type": "stream",
     "text": [
      "(12, 34.56, 'abc', 'xyz')\n"
     ]
    }
   ],
   "source": [
    "tup1 = (12, 34.56)\n",
    "tup2 = ('abc', 'xyz')\n",
    "tup3 = tup1 + tup2\n",
    "print (tup3)"
   ]
  },
  {
   "attachments": {},
   "cell_type": "markdown",
   "metadata": {},
   "source": [
    "### Hapus Nilai dalam Tuple\n",
    "\n",
    "Menghapus elemen tuple individual tidak mungkin dilakukan. Tentu saja, tidak ada yang salah dengan menggabungkan tupel lain dengan unsur-unsur yang tidak diinginkan dibuang. Untuk secara eksplisit menghapus keseluruhan tuple, cukup gunakan del statement."
   ]
  },
  {
   "cell_type": "code",
   "execution_count": 57,
   "metadata": {},
   "outputs": [
    {
     "name": "stdout",
     "output_type": "stream",
     "text": [
      "Setelah menghapus tuple : \n"
     ]
    }
   ],
   "source": [
    "tup = ('fisika', 'kimia', 1993, 2017)\n",
    "del(tup)\n",
    "print(\"Setelah menghapus tuple : \")"
   ]
  },
  {
   "attachments": {},
   "cell_type": "markdown",
   "metadata": {},
   "source": [
    "## 9.Dictionary\n",
    "\n",
    "Data untaian yang menyimpan berbagai tipe data berupa pasangan penunjuk dan nilai."
   ]
  },
  {
   "cell_type": "code",
   "execution_count": 59,
   "metadata": {},
   "outputs": [
    {
     "name": "stdout",
     "output_type": "stream",
     "text": [
      "Zara\n",
      "7\n"
     ]
    }
   ],
   "source": [
    "dict = {'Nama': 'Zara', 'Umur': 7, 'Kelas': 'Satu'}\n",
    "print (dict['Nama'])\n",
    "print (dict['Umur'])"
   ]
  },
  {
   "attachments": {},
   "cell_type": "markdown",
   "metadata": {},
   "source": [
    "### Akses Nilai dalam Dictionary\n",
    "\n",
    "Untuk mengakses elemen Dictionary, Anda dapat menggunakan tanda kurung siku yang sudah dikenal bersama dengan key untuk mendapatkan nilainya."
   ]
  },
  {
   "cell_type": "code",
   "execution_count": 65,
   "metadata": {},
   "outputs": [
    {
     "name": "stdout",
     "output_type": "stream",
     "text": [
      "dict['Nama']:  Angel\n",
      "dict['Umur']:  12\n",
      "dict['Kelas']:  Enam\n",
      "dict['Hobi']:  Menyanyi\n"
     ]
    }
   ],
   "source": [
    "dict = {'Nama': 'Angel', 'Umur': 12, 'Kelas': 'Enam', 'Hobi': 'Menyanyi'}\n",
    "print (\"dict['Nama']: \", dict['Nama'])\n",
    "print (\"dict['Umur']: \", dict['Umur'])\n",
    "print (\"dict['Kelas']: \", dict['Kelas'])\n",
    "print (\"dict['Hobi']: \", dict['Hobi'])"
   ]
  },
  {
   "attachments": {},
   "cell_type": "markdown",
   "metadata": {},
   "source": [
    "### Update Nilai dalam Dictionary\n",
    "\n",
    "Anda dapat memperbarui Dictionary dengan menambahkan entri baru atau pasangan nilai kunci, memodifikasi entri yang ada, atau menghapus entri yang ada seperti ditunjukkan."
   ]
  },
  {
   "cell_type": "code",
   "execution_count": 68,
   "metadata": {},
   "outputs": [
    {
     "name": "stdout",
     "output_type": "stream",
     "text": [
      "dict['Umur']:  8\n",
      "dict['Sekolah']:  01 Pagi\n",
      "dict['Nama']:  Budi\n",
      "dict['Kelas']:  Lima\n"
     ]
    }
   ],
   "source": [
    "dict = {'Nama': 'Budi', 'Umur': 11, 'Kelas': 'Lima'}\n",
    "dict['Umur'] = 8; # Mengubah entri yang sudah ada\n",
    "dict['Sekolah'] = \"01 Pagi\" # Menambah entri baru\n",
    "\n",
    "print (\"dict['Umur']: \", dict['Umur'])\n",
    "print (\"dict['Sekolah']: \", dict['Sekolah'])\n",
    "print (\"dict['Nama']: \", dict['Nama'])\n",
    "print (\"dict['Kelas']: \", dict['Kelas'])"
   ]
  },
  {
   "attachments": {},
   "cell_type": "markdown",
   "metadata": {},
   "source": [
    "### Hapus Elemen dalam Dictionary\n",
    "\n",
    "Anda dapat menghapus elemen Dictionary individual atau menghapus keseluruhan isi Dictionary. Anda juga dapat menghapus seluruh Dictionary dalam satu operasi. Untuk menghapus seluruh Dictionary secara eksplisit, cukup gunakan del statement."
   ]
  },
  {
   "cell_type": "code",
   "execution_count": 95,
   "metadata": {},
   "outputs": [
    {
     "name": "stdout",
     "output_type": "stream",
     "text": [
      "4\n",
      "(5, 2)\n",
      "{0: 1, 2: 3, 3: 5, 4: 9}\n"
     ]
    }
   ],
   "source": [
    "#membuat dictionary baru \n",
    "pangkat = {0:1, 1:4, 2:3, 3:5, 4:9, 5:2}\n",
    "\n",
    "#menghapus anggota tertentu \n",
    "print(pangkat.pop(1))\n",
    "\n",
    "#menghapus anggota secara acak \n",
    "print(pangkat.popitem()) \n",
    "\n",
    "#yang tersisa adalah  \n",
    "print(pangkat)\n",
    "\n",
    "#menghapus dictionary pangkat secara keseluruhan\n",
    "del(pangkat)"
   ]
  },
  {
   "attachments": {},
   "cell_type": "markdown",
   "metadata": {},
   "source": [
    "# Konversi Tipe data\n",
    "\n",
    "Pada Python Anda bisa mengkonversi tipe data dengan menggunakan fungsi. Dibawah ini adalah beberapa fungsi untuk mengkonversi tipe data number Python.\n",
    "\n",
    "1. int(x) untuk meng-konversi x menjadi plain integer.\n",
    "2. long(x) untuk meng-konversi x menjadi long integer.\n",
    "3. float(x) untuk meng-konversi x menjadi floating point number.\n",
    "4. complex(x) untuk meng-konversi x menjadi complex number dengna real part x dan imaginary part zero.\n",
    "5. complex(x, y) untuk meng-konversi x dan y menjadi complex number dengan real part x dan imaginary part y. x dan numeric expressions y."
   ]
  },
  {
   "attachments": {},
   "cell_type": "markdown",
   "metadata": {},
   "source": [
    "# Operator Pada Python \n",
    "\n",
    "Operator adalah konstruksi yang dapat memanipulasi nilai dari operan. Sebagai contoh operasi 3 + 2 = 5. Disini 3 dan 2 adalah operan dan + adalah operator.\n",
    "\n",
    "Bahasa pemrograman Python mendukung berbagai macam operator, diantaranya :\n",
    "1. Operator Aritmatika (Arithmetic Operators)\n",
    "2. Operator Perbandingan (Comparison (Relational) Operators)\n",
    "3. Operator Penugasan (Assignment Operators)\n",
    "4. Operator Logika (Logical Operators)\n",
    "5. Operator Bitwise (Bitwise Operators)\n",
    "6. Operator Keanggotaan (Membership Operators)"
   ]
  },
  {
   "cell_type": "markdown",
   "metadata": {},
   "source": [
    "## 1. Operator Aritmatika (Arithmetic Operators)\n",
    "\n",
    "Operator aritmatika adalah operator yang digunakan untuk melakukan operasi matematika, seperti penjumlahan, pengurangan, perkalian, pembagian, dan sebagainya. Tabel berikut menunjukkan jenis operator aritmatika."
   ]
  },
  {
   "cell_type": "code",
   "execution_count": 96,
   "metadata": {},
   "outputs": [
    {
     "name": "stdout",
     "output_type": "stream",
     "text": [
      "15\n",
      "16\n",
      "Sisa hutang Anda adalah  5000\n",
      "120\n",
      "Setiap anak akan mendapatkan bagian kue sebanyak  4.0\n",
      "Sisa bagi dari bilangan  14  dan  5  adalah  4\n",
      "64\n",
      "3\n"
     ]
    }
   ],
   "source": [
    "#OPERATOR ARITMATIKA\n",
    "\n",
    "#Penjumlahan\n",
    "print(13 + 2)\n",
    "apel = 7\n",
    "jeruk = 9\n",
    "buah = apel + jeruk #\n",
    "print(buah)\n",
    "\n",
    "#Pengurangan\n",
    "hutang = 10000\n",
    "bayar = 5000\n",
    "sisaHutang = hutang - bayar\n",
    "print(\"Sisa hutang Anda adalah \", sisaHutang)\n",
    "\n",
    "#Perkalian\n",
    "panjang = 15\n",
    "lebar = 8\n",
    "luas = panjang * lebar\n",
    "print(luas)\n",
    "\n",
    "#Pembagian\n",
    "kue = 16\n",
    "anak = 4\n",
    "kuePerAnak = kue / anak\n",
    "print(\"Setiap anak akan mendapatkan bagian kue sebanyak \", kuePerAnak)\n",
    "\n",
    "#Sisa Bagi / Modulus\n",
    "bilangan1 = 14\n",
    "bilangan2 = 5\n",
    "hasil = bilangan1 % bilangan2\n",
    "print(\"Sisa bagi dari bilangan \", bilangan1, \" dan \", bilangan2, \" adalah \", hasil)\n",
    "\n",
    "#Pangkat\n",
    "bilangan3 = 8\n",
    "bilangan4 = 2\n",
    "hasilPangkat = bilangan3 ** bilangan4\n",
    "print(hasilPangkat)\n",
    "\n",
    "#Pembagian Bulat\n",
    "print(10//3) \n",
    "#10 dibagi 3 adalah 3.3333. Karena dibulatkan maka akan menghasilkan nilai 3"
   ]
  },
  {
   "cell_type": "markdown",
   "metadata": {},
   "source": [
    "## 2. Operator Perbandingan (Comparison (Relational) Operators)\n",
    "\n",
    "Operator perbandingan adalah operator yang digunakan untuk membandingkan 2 buah nilai. Hasil perbandingannya adalah True atau False tergantung kondisi."
   ]
  },
  {
   "cell_type": "code",
   "execution_count": 100,
   "metadata": {},
   "outputs": [
    {
     "name": "stdout",
     "output_type": "stream",
     "text": [
      "Apakah 10 == 12: False\n",
      "Apakah 10 < 12: True\n",
      "Apakah 10 > 12: False\n",
      "Apakah 10 <= 12: True\n",
      "Apakah 10 >= 12: False\n",
      "Apakah 10 != 12: True\n"
     ]
    }
   ],
   "source": [
    "#mendefinisikan variabel\n",
    "a = 10\n",
    "b = 12\n",
    "\n",
    "#apakah a sama dengan b?\n",
    "c = a == b\n",
    "print (\"Apakah %d == %d: %r\" % (a,b,c))\n",
    "\n",
    "#apakah a < b?\n",
    "c = a < b\n",
    "print (\"Apakah %d < %d: %r\" % (a,b,c))\n",
    "\n",
    "#apakah a > b?\n",
    "c = a > b\n",
    "print (\"Apakah %d > %d: %r\" % (a,b,c))\n",
    "\n",
    "#apakah a <= b?\n",
    "c = a <= b\n",
    "print (\"Apakah %d <= %d: %r\" % (a,b,c))\n",
    "\n",
    "#apakah a >= b?\n",
    "c = a >= b\n",
    "print (\"Apakah %d >= %d: %r\" % (a,b,c))\n",
    "\n",
    "#apakah a != b?\n",
    "c = a != b\n",
    "print (\"Apakah %d != %d: %r\" % (a,b,c))"
   ]
  },
  {
   "cell_type": "markdown",
   "metadata": {},
   "source": [
    "## 3. Operator Penugasan (Assignment Operators)\n",
    "\n",
    "Seperti namanya, operator ini digunakan untuk memberikan tugas pada variabel."
   ]
  },
  {
   "cell_type": "code",
   "execution_count": 101,
   "metadata": {},
   "outputs": [
    {
     "name": "stdout",
     "output_type": "stream",
     "text": [
      "Umur : 18\n"
     ]
    }
   ],
   "source": [
    "umur = 18\n",
    "print(\"Umur :\",umur)"
   ]
  },
  {
   "cell_type": "markdown",
   "metadata": {},
   "source": [
    "Maka variabel umur telah kita berikan tugas untuk menyimpan angka 18.\n",
    "\n",
    "Selain menyimpan atau pengisian nilai, ada juga menjumlahkan, mengurangi, perkalian, pembagian, dan sebagainya"
   ]
  },
  {
   "cell_type": "code",
   "execution_count": 106,
   "metadata": {},
   "outputs": [
    {
     "name": "stdout",
     "output_type": "stream",
     "text": [
      "Nilai a = 10\n",
      "Nilai setelah ditambah 5:\n",
      "a = 15\n"
     ]
    }
   ],
   "source": [
    "a = 10\n",
    "print (\"Nilai a = %d\" % a)\n",
    "\n",
    "a += 5\n",
    "print (\"Nilai setelah ditambah 5:\")\n",
    "print (\"a = %d\" % a)"
   ]
  },
  {
   "cell_type": "markdown",
   "metadata": {},
   "source": [
    "## 4. Operator Logika (Logical Operators)\n",
    "\n",
    "Operator logika digunakan untuk membuat operasi logika, seperti logika AND, OR, dan NOT."
   ]
  },
  {
   "cell_type": "code",
   "execution_count": 109,
   "metadata": {},
   "outputs": [
    {
     "name": "stdout",
     "output_type": "stream",
     "text": [
      "True and False = False\n",
      "True or False = True\n",
      "not True  = False\n"
     ]
    }
   ],
   "source": [
    "a = True\n",
    "b = False\n",
    "\n",
    "# Logika AND\n",
    "c = a and b\n",
    "print (\"%r and %r = %r\" % (a,b,c))\n",
    "\n",
    "# Logika OR\n",
    "c = a or b\n",
    "print (\"%r or %r = %r\" % (a,b,c))\n",
    "\n",
    "# Logika Not\n",
    "c = not a\n",
    "print (\"not %r  = %r\" % (a,c))"
   ]
  },
  {
   "cell_type": "markdown",
   "metadata": {},
   "source": [
    "## 5. Operator Bitwise (Bitwise Operators)\n",
    "\n",
    "Operator Bitwise adalah operator untuk melakukan operasi berdasarkan bit/biner."
   ]
  },
  {
   "cell_type": "code",
   "execution_count": 123,
   "metadata": {},
   "outputs": [
    {
     "name": "stdout",
     "output_type": "stream",
     "text": [
      "Hasilnya : 12\n",
      "Hasilnya : 31\n",
      "Hasilnya : 19\n",
      "Hasilnya : -32\n",
      "Hasilnya : 126976\n",
      "Hasilnya : 0\n"
     ]
    }
   ],
   "source": [
    "a = 31\n",
    "b = 12\n",
    "\n",
    "# Operasi AND\n",
    "print(\"Hasilnya :\", a&b)\n",
    "\n",
    "# Operasi OR\n",
    "print (\"Hasilnya :\", a|b)\n",
    "\n",
    "# Operasi XOR\n",
    "print (\"Hasilnya :\", a^b)\n",
    "\n",
    "# Operasi Not\n",
    "print (\"Hasilnya :\", ~a)\n",
    "\n",
    "# Operasi shift left (tukar posisi biner)\n",
    "print (\"Hasilnya :\", a<<b)\n",
    "\n",
    "# Operasi shift right (tukar posisi biner)\n",
    "print (\"Hasilnya :\", a>>b)"
   ]
  },
  {
   "cell_type": "markdown",
   "metadata": {},
   "source": [
    "## 6. Operator Keanggotaan (Membership Operators)\n",
    "\n",
    "Operator keanggotaan adalah operator yang digunakan untuk memeriksa apakah suatu nilai atau variabel merupakan anggota atau ditemukan di dalam suatu data (string, list, tuple, set, dan dictionary) dengan statement in dan not in."
   ]
  },
  {
   "cell_type": "code",
   "execution_count": 125,
   "metadata": {},
   "outputs": [
    {
     "name": "stdout",
     "output_type": "stream",
     "text": [
      "x berada di list negara eropa ?  False\n",
      "y berada di list negara eropa ?  True\n",
      "x tidak berada di list negara eropa ?  True\n",
      "y tidak berada di list negara eropa ?  False\n"
     ]
    }
   ],
   "source": [
    "eropa = ['inggris','perancis','jerman','belanda','spanyol']\n",
    "x = 'indonesia'\n",
    "y = 'inggris'\n",
    "\n",
    "print(\"x berada di list negara eropa ? \", (x in eropa))\n",
    "print(\"y berada di list negara eropa ? \", (y in eropa))\n",
    "\n",
    "print(\"x tidak berada di list negara eropa ? \", (x not in eropa))\n",
    "print(\"y tidak berada di list negara eropa ? \", (y not in eropa))"
   ]
  },
  {
   "cell_type": "markdown",
   "metadata": {},
   "source": [
    "# Percabangan\n",
    "\n",
    "Percabangan adalah cara yang digunakan untuk mengambil keputusan apabila di dalam program dihadapkan pada kondisi tertentu. Jumlah kondisinya bisa satu, dua atau lebih.\n",
    "\n",
    "Percabangan mengevaluasi kondisi atau ekspresi yang hasilnya benar atau salah. Kondisi atau ekspresi tersebut disebut ekspresi boolean. Hasil dari pengecekan kondisi adalah True atau False. Bila benar (True), maka pernyataan yang ada di dalam blok kondisi tersebut akan dieksekusi. Bila salah (False), maka blok pernyataan lain yang dieksekusi."
   ]
  },
  {
   "cell_type": "code",
   "execution_count": 126,
   "metadata": {},
   "outputs": [
    {
     "name": "stdout",
     "output_type": "stream",
     "text": [
      "Selamat Anda Lulus\n",
      "Maaf Anda Tidak Lulus\n",
      "Saya akan libur\n"
     ]
    }
   ],
   "source": [
    "#Kondisi If\n",
    "nilai = 9\n",
    "if(nilai > 7):\n",
    "    print(\"Selamat Anda Lulus\")\n",
    "if(nilai > 10):\n",
    "    print(\"Selamat Anda Lulus\")\n",
    "    \n",
    "#Kondisi If Else\n",
    "nilai = 3\n",
    "if(nilai > 7):\n",
    "    print(\"Selamat Anda Lulus\")\n",
    "else:\n",
    "    print(\"Maaf Anda Tidak Lulus\")\n",
    "    \n",
    "#Kondisi Elif\n",
    "hari_ini = \"Minggu\"\n",
    "if(hari_ini == \"Senin\"):\n",
    "    print(\"Saya akan kuliah\")\n",
    "elif(hari_ini == \"Selasa\"):\n",
    "    print(\"Saya akan kuliah\")\n",
    "elif(hari_ini == \"Rabu\"):\n",
    "    print(\"Saya akan kuliah\")\n",
    "elif(hari_ini == \"Kamis\"):\n",
    "    print(\"Saya akan kuliah\")\n",
    "elif(hari_ini == \"Jumat\"):\n",
    "    print(\"Saya akan kuliah\")\n",
    "elif(hari_ini == \"Sabtu\"):\n",
    "    print(\"Saya akan kuliah\")\n",
    "elif(hari_ini == \"Minggu\"):\n",
    "    print(\"Saya akan libur\")"
   ]
  },
  {
   "cell_type": "markdown",
   "metadata": {},
   "source": [
    "# Perulangan\n",
    "\n",
    "secara umum, Python mengeksekusi program baris perbaris. Mulai dari baris satu, dua, dan seterusnya. Ada kalanya, kita perlu mengeksekusi satu baris atau satu blok kode program beberapa kali. Hal ini disebut dengan perulangan atau biasa disebut looping atau iterasi."
   ]
  },
  {
   "cell_type": "code",
   "execution_count": 132,
   "metadata": {},
   "outputs": [
    {
     "name": "stdout",
     "output_type": "stream",
     "text": [
      "Jumlah nya: 0\n",
      "Jumlah nya: 1\n",
      "Jumlah nya: 2\n",
      "Jumlah nya: 3\n",
      "Jumlah nya: 4\n",
      "Selesai!\n",
      "1\n",
      "2\n",
      "3\n",
      "4\n",
      "5\n",
      "Saya suka makan nanas\n",
      "Saya suka makan apel\n",
      "Saya suka makan jeruk\n",
      "2  adalah bilangan prima\n",
      "3  adalah bilangan prima\n",
      "5  adalah bilangan prima\n",
      "7  adalah bilangan prima\n",
      "11  adalah bilangan prima\n",
      "13  adalah bilangan prima\n",
      "17  adalah bilangan prima\n",
      "19  adalah bilangan prima\n",
      "Selesai!\n"
     ]
    }
   ],
   "source": [
    "#Kondisi While Loop\n",
    "count = 0\n",
    "while (count < 5):\n",
    "    print ('Jumlah nya:', count)\n",
    "    count = count + 1\n",
    "print (\"Selesai!\")\n",
    "\n",
    "#Kondisi For loop sederhana\n",
    "angka = [1,2,3,4,5]\n",
    "for x in angka:\n",
    "    print(x)\n",
    "\n",
    "#Kondisi For loop\n",
    "buah = [\"nanas\", \"apel\", \"jeruk\"]\n",
    "for makanan in buah:\n",
    "    print(\"Saya suka makan\", makanan)\n",
    "    \n",
    "#Kondisi Nested Loop\n",
    "i = 2\n",
    "while(i < 20):\n",
    "    j = 2\n",
    "    while(j <= (i/j)):\n",
    "        if not(i%j): break\n",
    "        j = j + 1\n",
    "    if (j > i/j) : print (i, \" adalah bilangan prima\")\n",
    "    i = i + 1\n",
    "print(\"Selesai!\")"
   ]
  }
 ],
 "metadata": {
  "kernelspec": {
   "display_name": "Python 3",
   "language": "python",
   "name": "python3"
  },
  "language_info": {
   "codemirror_mode": {
    "name": "ipython",
    "version": 3
   },
   "file_extension": ".py",
   "mimetype": "text/x-python",
   "name": "python",
   "nbconvert_exporter": "python",
   "pygments_lexer": "ipython3",
   "version": "3.6.2"
  }
 },
 "nbformat": 4,
 "nbformat_minor": 2
}
